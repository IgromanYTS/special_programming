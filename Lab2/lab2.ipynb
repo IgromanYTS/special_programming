{
 "cells": [
  {
   "cell_type": "markdown",
   "metadata": {},
   "source": [
    "# **Лабораторна робота No2**\n",
    "\n",
    "**Наука про дані:** підготовчий етап\n",
    "\n",
    "**Мета роботи:** ознайомитися з основними кроками по роботі з даними –\n",
    "workflow від постановки задачі до написання пояснювальної записки,\n",
    "зрозуміти постановку задачі та природу даних, над якими виконується\n",
    "аналітичні операції\n",
    "Основні поняття: сирі дані (raw data), підготовка даних (data preparation)"
   ]
  },
  {
   "cell_type": "markdown",
   "metadata": {},
   "source": [
    "### **Хід виконання роботи**\n",
    "\n",
    "### Завдання 1\n",
    "1. Створити env в якому будуть встановлені всі необхідні бібліотеки та\n",
    "налаштування для данної лабораторної роботи\n"
   ]
  },
  {
   "cell_type": "markdown",
   "metadata": {},
   "source": [
    "Імпортуємо модулі"
   ]
  },
  {
   "cell_type": "code",
   "execution_count": 4,
   "metadata": {},
   "outputs": [],
   "source": [
    "import urllib.request as urlib2\n",
    "import pandas as pd\n",
    "import numpy as np\n",
    "import datetime\n",
    "import os\n",
    "import glob"
   ]
  },
  {
   "cell_type": "markdown",
   "metadata": {},
   "source": [
    "### Завдання 2\n",
    "2. Для кожної із адміністративних одиниць України завантажити тестові\n",
    "структуровані файли, що містять значення VHI-індексу. Ця процедура\n",
    "має бути автоматизована, параметром процедури має бути індекс\n",
    "(номер) області. При зберіганні файлу до його імені потрібно додати\n",
    "дату та час завантаження;"
   ]
  },
  {
   "cell_type": "markdown",
   "metadata": {},
   "source": [
    "Створюємо папку або перевіряємо її наявність"
   ]
  },
  {
   "cell_type": "code",
   "execution_count": 5,
   "metadata": {},
   "outputs": [
    {
     "name": "stdout",
     "output_type": "stream",
     "text": [
      "Error:  [Errno 17] File exists: 'node'\n"
     ]
    }
   ],
   "source": [
    "directory_name = \"node\"\n",
    "try: \n",
    "    os.mkdir(directory_name)\n",
    "    print(\"Directory: \", directory_name, \"created successfully\")\n",
    "except PermissionError:\n",
    "    print(\"Directory: \", directory_name, \"already created\")\n",
    "except Exception as e:\n",
    "    print(\"Error: \", e)"
   ]
  },
  {
   "cell_type": "markdown",
   "metadata": {},
   "source": [
    "Зчитуємо дату та час"
   ]
  },
  {
   "cell_type": "code",
   "execution_count": 6,
   "metadata": {},
   "outputs": [
    {
     "name": "stdout",
     "output_type": "stream",
     "text": [
      "data(2024-12-16) and time(15:44:50)\n"
     ]
    }
   ],
   "source": [
    "now = datetime.datetime.now()\n",
    "current_time = now.strftime(\"data(%Y-%m-%d) and time(%H:%M:%S)\")\n",
    "print(current_time)"
   ]
  },
  {
   "cell_type": "markdown",
   "metadata": {},
   "source": [
    "Ствоюємо словник"
   ]
  },
  {
   "cell_type": "code",
   "execution_count": 7,
   "metadata": {},
   "outputs": [],
   "source": [
    "dict = {\n",
    "    1 : 24,\n",
    "    2 : 25,\n",
    "    3 : 5,\n",
    "    4 : 6,\n",
    "    5 : 27,\n",
    "    6 : 23,\n",
    "    7 : 26,\n",
    "    8 : 7,\n",
    "    9 : 11,\n",
    "    10 : 13,\n",
    "    11 : 14,\n",
    "    12 : 15,\n",
    "    13 : 16,\n",
    "    14 : 17,\n",
    "    15 : 18,\n",
    "    16 : 19,\n",
    "    17 : 21,\n",
    "    18 : 22,\n",
    "    19 : 8,\n",
    "    20 : 9,\n",
    "    21 : 10,\n",
    "    22 : 1,\n",
    "    23 : 3,\n",
    "    24 : 2,\n",
    "    25 : 4,\n",
    "    26 : 12,\n",
    "    27 : 20\n",
    "    }"
   ]
  },
  {
   "cell_type": "markdown",
   "metadata": {},
   "source": [
    "Завантажуємо файли в папку"
   ]
  },
  {
   "cell_type": "code",
   "execution_count": 8,
   "metadata": {},
   "outputs": [],
   "source": [
    "file_path = \"node\"\n",
    "for i in range(1,29):\n",
    "    name = 'NOAA_ID'+str(i)\n",
    "    if glob.glob(os.path.join(directory_name, name)):\n",
    "        print(\"Файл існує:\", str(i))\n",
    "        continue\n",
    "    url = \"https://www.star.nesdis.noaa.gov/smcd/emb/vci/VH/get_TS_admin.php?country=UKR&provinceID={}&year1=1981&year2=2024&type=Mean\".format(i)\n",
    "    wp = urlib2.urlopen(url)\n",
    "    text = wp.read()\n",
    "    out = open(os.path.join(file_path, name+'_'+current_time+'.csv'),'wb')\n",
    "    out.write(text)\n",
    "    out.close()\n"
   ]
  },
  {
   "cell_type": "markdown",
   "metadata": {},
   "source": [
    "### Завдання 3\n",
    "3. Зчитати завантажені текстові файли у фрейм (детальніше про роботу\n",
    "із фреймами буде розказано у подальших лабораторних роботах).\n",
    "Імена стовбців фрейму мають бути змістовними та легкими для\n",
    "сприйняття (не повинно бути спеціалізованих символів, пробілів\n",
    "тощо). Ця задача має бути реалізована у вигляді окремої процедури,\n",
    "яка на вхід приймає шлях до директорії, в якій зберігаються файли;"
   ]
  },
  {
   "cell_type": "markdown",
   "metadata": {},
   "source": [
    "Створюємо головний Датафрейм"
   ]
  },
  {
   "cell_type": "code",
   "execution_count": 9,
   "metadata": {},
   "outputs": [
    {
     "data": {
      "text/html": [
       "<div>\n",
       "<style scoped>\n",
       "    .dataframe tbody tr th:only-of-type {\n",
       "        vertical-align: middle;\n",
       "    }\n",
       "\n",
       "    .dataframe tbody tr th {\n",
       "        vertical-align: top;\n",
       "    }\n",
       "\n",
       "    .dataframe thead th {\n",
       "        text-align: right;\n",
       "    }\n",
       "</style>\n",
       "<table border=\"1\" class=\"dataframe\">\n",
       "  <thead>\n",
       "    <tr style=\"text-align: right;\">\n",
       "      <th></th>\n",
       "      <th>Year</th>\n",
       "      <th>Week</th>\n",
       "      <th>SMN</th>\n",
       "      <th>SMT</th>\n",
       "      <th>VCI</th>\n",
       "      <th>TCI</th>\n",
       "      <th>VHI</th>\n",
       "      <th>empty</th>\n",
       "    </tr>\n",
       "  </thead>\n",
       "  <tbody>\n",
       "  </tbody>\n",
       "</table>\n",
       "</div>"
      ],
      "text/plain": [
       "Empty DataFrame\n",
       "Columns: [Year, Week, SMN, SMT, VCI, TCI, VHI, empty]\n",
       "Index: []"
      ]
     },
     "execution_count": 9,
     "metadata": {},
     "output_type": "execute_result"
    }
   ],
   "source": [
    "headers = ['Year', 'Week', 'SMN', 'SMT', 'VCI', 'TCI', 'VHI', 'empty']\n",
    "data = pd.DataFrame(columns=headers)\n",
    "data"
   ]
  },
  {
   "cell_type": "markdown",
   "metadata": {},
   "source": [
    "Обʼєднуємо файли в один та очищуємо"
   ]
  },
  {
   "cell_type": "code",
   "execution_count": 10,
   "metadata": {},
   "outputs": [
    {
     "name": "stderr",
     "output_type": "stream",
     "text": [
      "/var/folders/d7/mv12n9yn7c1gy3kr948lcfth0000gn/T/ipykernel_24192/2587880211.py:10: FutureWarning: The behavior of DataFrame concatenation with empty or all-NA entries is deprecated. In a future version, this will no longer exclude empty or all-NA columns when determining the result dtypes. To retain the old behavior, exclude the relevant entries before the concat operation.\n",
      "  data = pd.concat([data, df], ignore_index=True)\n"
     ]
    },
    {
     "data": {
      "text/html": [
       "<div>\n",
       "<style scoped>\n",
       "    .dataframe tbody tr th:only-of-type {\n",
       "        vertical-align: middle;\n",
       "    }\n",
       "\n",
       "    .dataframe tbody tr th {\n",
       "        vertical-align: top;\n",
       "    }\n",
       "\n",
       "    .dataframe thead th {\n",
       "        text-align: right;\n",
       "    }\n",
       "</style>\n",
       "<table border=\"1\" class=\"dataframe\">\n",
       "  <thead>\n",
       "    <tr style=\"text-align: right;\">\n",
       "      <th></th>\n",
       "      <th>Year</th>\n",
       "      <th>Week</th>\n",
       "      <th>SMN</th>\n",
       "      <th>SMT</th>\n",
       "      <th>VCI</th>\n",
       "      <th>TCI</th>\n",
       "      <th>VHI</th>\n",
       "      <th>area</th>\n",
       "    </tr>\n",
       "  </thead>\n",
       "  <tbody>\n",
       "    <tr>\n",
       "      <th>0</th>\n",
       "      <td>1982</td>\n",
       "      <td>2.0</td>\n",
       "      <td>0.054</td>\n",
       "      <td>262.29</td>\n",
       "      <td>46.83</td>\n",
       "      <td>31.75</td>\n",
       "      <td>39.29</td>\n",
       "      <td>1.0</td>\n",
       "    </tr>\n",
       "    <tr>\n",
       "      <th>1</th>\n",
       "      <td>1982</td>\n",
       "      <td>3.0</td>\n",
       "      <td>0.055</td>\n",
       "      <td>263.82</td>\n",
       "      <td>48.13</td>\n",
       "      <td>27.24</td>\n",
       "      <td>37.68</td>\n",
       "      <td>1.0</td>\n",
       "    </tr>\n",
       "    <tr>\n",
       "      <th>2</th>\n",
       "      <td>1982</td>\n",
       "      <td>4.0</td>\n",
       "      <td>0.053</td>\n",
       "      <td>265.33</td>\n",
       "      <td>46.09</td>\n",
       "      <td>23.91</td>\n",
       "      <td>35.00</td>\n",
       "      <td>1.0</td>\n",
       "    </tr>\n",
       "    <tr>\n",
       "      <th>3</th>\n",
       "      <td>1982</td>\n",
       "      <td>5.0</td>\n",
       "      <td>0.050</td>\n",
       "      <td>265.66</td>\n",
       "      <td>41.46</td>\n",
       "      <td>26.65</td>\n",
       "      <td>34.06</td>\n",
       "      <td>1.0</td>\n",
       "    </tr>\n",
       "    <tr>\n",
       "      <th>4</th>\n",
       "      <td>1982</td>\n",
       "      <td>6.0</td>\n",
       "      <td>0.048</td>\n",
       "      <td>266.55</td>\n",
       "      <td>36.56</td>\n",
       "      <td>29.46</td>\n",
       "      <td>33.01</td>\n",
       "      <td>1.0</td>\n",
       "    </tr>\n",
       "    <tr>\n",
       "      <th>...</th>\n",
       "      <td>...</td>\n",
       "      <td>...</td>\n",
       "      <td>...</td>\n",
       "      <td>...</td>\n",
       "      <td>...</td>\n",
       "      <td>...</td>\n",
       "      <td>...</td>\n",
       "      <td>...</td>\n",
       "    </tr>\n",
       "    <tr>\n",
       "      <th>122103</th>\n",
       "      <td>2024</td>\n",
       "      <td>45.0</td>\n",
       "      <td>0.036</td>\n",
       "      <td>310.59</td>\n",
       "      <td>16.57</td>\n",
       "      <td>48.36</td>\n",
       "      <td>32.47</td>\n",
       "      <td>28.0</td>\n",
       "    </tr>\n",
       "    <tr>\n",
       "      <th>122104</th>\n",
       "      <td>2024</td>\n",
       "      <td>46.0</td>\n",
       "      <td>0.036</td>\n",
       "      <td>309.78</td>\n",
       "      <td>16.68</td>\n",
       "      <td>37.94</td>\n",
       "      <td>27.31</td>\n",
       "      <td>28.0</td>\n",
       "    </tr>\n",
       "    <tr>\n",
       "      <th>122105</th>\n",
       "      <td>2024</td>\n",
       "      <td>47.0</td>\n",
       "      <td>0.037</td>\n",
       "      <td>308.59</td>\n",
       "      <td>18.82</td>\n",
       "      <td>33.32</td>\n",
       "      <td>26.07</td>\n",
       "      <td>28.0</td>\n",
       "    </tr>\n",
       "    <tr>\n",
       "      <th>122106</th>\n",
       "      <td>2024</td>\n",
       "      <td>48.0</td>\n",
       "      <td>0.038</td>\n",
       "      <td>307.15</td>\n",
       "      <td>20.64</td>\n",
       "      <td>31.09</td>\n",
       "      <td>25.87</td>\n",
       "      <td>28.0</td>\n",
       "    </tr>\n",
       "    <tr>\n",
       "      <th>122107</th>\n",
       "      <td>2024</td>\n",
       "      <td>49.0</td>\n",
       "      <td>0.039</td>\n",
       "      <td>306.23</td>\n",
       "      <td>23.35</td>\n",
       "      <td>29.07</td>\n",
       "      <td>26.21</td>\n",
       "      <td>28.0</td>\n",
       "    </tr>\n",
       "  </tbody>\n",
       "</table>\n",
       "<p>122108 rows × 8 columns</p>\n",
       "</div>"
      ],
      "text/plain": [
       "        Year  Week    SMN     SMT    VCI    TCI    VHI  area\n",
       "0       1982   2.0  0.054  262.29  46.83  31.75  39.29   1.0\n",
       "1       1982   3.0  0.055  263.82  48.13  27.24  37.68   1.0\n",
       "2       1982   4.0  0.053  265.33  46.09  23.91  35.00   1.0\n",
       "3       1982   5.0  0.050  265.66  41.46  26.65  34.06   1.0\n",
       "4       1982   6.0  0.048  266.55  36.56  29.46  33.01   1.0\n",
       "...      ...   ...    ...     ...    ...    ...    ...   ...\n",
       "122103  2024  45.0  0.036  310.59  16.57  48.36  32.47  28.0\n",
       "122104  2024  46.0  0.036  309.78  16.68  37.94  27.31  28.0\n",
       "122105  2024  47.0  0.037  308.59  18.82  33.32  26.07  28.0\n",
       "122106  2024  48.0  0.038  307.15  20.64  31.09  25.87  28.0\n",
       "122107  2024  49.0  0.039  306.23  23.35  29.07  26.21  28.0\n",
       "\n",
       "[122108 rows x 8 columns]"
      ]
     },
     "execution_count": 10,
     "metadata": {},
     "output_type": "execute_result"
    }
   ],
   "source": [
    "for i in range(1,29):\n",
    "    name = f\"NOAA_ID{i}_*.csv\"\n",
    "    file_list = glob.glob(os.path.join(directory_name, name))\n",
    "    for file_path2 in file_list:\n",
    "        df = pd.read_csv(file_path2, header = 1, names = headers)\n",
    "        df = df.drop(df.loc[df['VHI'] == -1].index)\n",
    "        df['area'] = i\n",
    "        df = df[~df['Year'].astype(str).str.contains('<|>', regex=True)]\n",
    "        #df = df.dropna()\n",
    "        data = pd.concat([data, df], ignore_index=True)\n",
    "data = data.drop(data.columns[[-2]], axis=1)\n",
    "data\n",
    "    \n"
   ]
  },
  {
   "cell_type": "markdown",
   "metadata": {},
   "source": [
    "### Завдання 4\n",
    "4. Реалізувати процедуру, яка змінить індекси областей, які використані\n",
    "на порталі NOAA на наведені"
   ]
  },
  {
   "cell_type": "code",
   "execution_count": 11,
   "metadata": {},
   "outputs": [],
   "source": [
    "for i in range(1,28):\n",
    "    data.loc[data[\"area\"]==dict[i], \"area\"] = i"
   ]
  },
  {
   "cell_type": "markdown",
   "metadata": {},
   "source": [
    "Вивід результату"
   ]
  },
  {
   "cell_type": "code",
   "execution_count": 12,
   "metadata": {},
   "outputs": [
    {
     "data": {
      "text/html": [
       "<div>\n",
       "<style scoped>\n",
       "    .dataframe tbody tr th:only-of-type {\n",
       "        vertical-align: middle;\n",
       "    }\n",
       "\n",
       "    .dataframe tbody tr th {\n",
       "        vertical-align: top;\n",
       "    }\n",
       "\n",
       "    .dataframe thead th {\n",
       "        text-align: right;\n",
       "    }\n",
       "</style>\n",
       "<table border=\"1\" class=\"dataframe\">\n",
       "  <thead>\n",
       "    <tr style=\"text-align: right;\">\n",
       "      <th></th>\n",
       "      <th>Year</th>\n",
       "      <th>Week</th>\n",
       "      <th>SMN</th>\n",
       "      <th>SMT</th>\n",
       "      <th>VCI</th>\n",
       "      <th>TCI</th>\n",
       "      <th>VHI</th>\n",
       "      <th>area</th>\n",
       "    </tr>\n",
       "  </thead>\n",
       "  <tbody>\n",
       "    <tr>\n",
       "      <th>0</th>\n",
       "      <td>1982</td>\n",
       "      <td>2.0</td>\n",
       "      <td>0.054</td>\n",
       "      <td>262.29</td>\n",
       "      <td>46.83</td>\n",
       "      <td>31.75</td>\n",
       "      <td>39.29</td>\n",
       "      <td>22.0</td>\n",
       "    </tr>\n",
       "    <tr>\n",
       "      <th>1</th>\n",
       "      <td>1982</td>\n",
       "      <td>3.0</td>\n",
       "      <td>0.055</td>\n",
       "      <td>263.82</td>\n",
       "      <td>48.13</td>\n",
       "      <td>27.24</td>\n",
       "      <td>37.68</td>\n",
       "      <td>22.0</td>\n",
       "    </tr>\n",
       "    <tr>\n",
       "      <th>2</th>\n",
       "      <td>1982</td>\n",
       "      <td>4.0</td>\n",
       "      <td>0.053</td>\n",
       "      <td>265.33</td>\n",
       "      <td>46.09</td>\n",
       "      <td>23.91</td>\n",
       "      <td>35.00</td>\n",
       "      <td>22.0</td>\n",
       "    </tr>\n",
       "    <tr>\n",
       "      <th>3</th>\n",
       "      <td>1982</td>\n",
       "      <td>5.0</td>\n",
       "      <td>0.050</td>\n",
       "      <td>265.66</td>\n",
       "      <td>41.46</td>\n",
       "      <td>26.65</td>\n",
       "      <td>34.06</td>\n",
       "      <td>22.0</td>\n",
       "    </tr>\n",
       "    <tr>\n",
       "      <th>4</th>\n",
       "      <td>1982</td>\n",
       "      <td>6.0</td>\n",
       "      <td>0.048</td>\n",
       "      <td>266.55</td>\n",
       "      <td>36.56</td>\n",
       "      <td>29.46</td>\n",
       "      <td>33.01</td>\n",
       "      <td>22.0</td>\n",
       "    </tr>\n",
       "    <tr>\n",
       "      <th>...</th>\n",
       "      <td>...</td>\n",
       "      <td>...</td>\n",
       "      <td>...</td>\n",
       "      <td>...</td>\n",
       "      <td>...</td>\n",
       "      <td>...</td>\n",
       "      <td>...</td>\n",
       "      <td>...</td>\n",
       "    </tr>\n",
       "    <tr>\n",
       "      <th>122103</th>\n",
       "      <td>2024</td>\n",
       "      <td>45.0</td>\n",
       "      <td>0.036</td>\n",
       "      <td>310.59</td>\n",
       "      <td>16.57</td>\n",
       "      <td>48.36</td>\n",
       "      <td>32.47</td>\n",
       "      <td>28.0</td>\n",
       "    </tr>\n",
       "    <tr>\n",
       "      <th>122104</th>\n",
       "      <td>2024</td>\n",
       "      <td>46.0</td>\n",
       "      <td>0.036</td>\n",
       "      <td>309.78</td>\n",
       "      <td>16.68</td>\n",
       "      <td>37.94</td>\n",
       "      <td>27.31</td>\n",
       "      <td>28.0</td>\n",
       "    </tr>\n",
       "    <tr>\n",
       "      <th>122105</th>\n",
       "      <td>2024</td>\n",
       "      <td>47.0</td>\n",
       "      <td>0.037</td>\n",
       "      <td>308.59</td>\n",
       "      <td>18.82</td>\n",
       "      <td>33.32</td>\n",
       "      <td>26.07</td>\n",
       "      <td>28.0</td>\n",
       "    </tr>\n",
       "    <tr>\n",
       "      <th>122106</th>\n",
       "      <td>2024</td>\n",
       "      <td>48.0</td>\n",
       "      <td>0.038</td>\n",
       "      <td>307.15</td>\n",
       "      <td>20.64</td>\n",
       "      <td>31.09</td>\n",
       "      <td>25.87</td>\n",
       "      <td>28.0</td>\n",
       "    </tr>\n",
       "    <tr>\n",
       "      <th>122107</th>\n",
       "      <td>2024</td>\n",
       "      <td>49.0</td>\n",
       "      <td>0.039</td>\n",
       "      <td>306.23</td>\n",
       "      <td>23.35</td>\n",
       "      <td>29.07</td>\n",
       "      <td>26.21</td>\n",
       "      <td>28.0</td>\n",
       "    </tr>\n",
       "  </tbody>\n",
       "</table>\n",
       "<p>122108 rows × 8 columns</p>\n",
       "</div>"
      ],
      "text/plain": [
       "        Year  Week    SMN     SMT    VCI    TCI    VHI  area\n",
       "0       1982   2.0  0.054  262.29  46.83  31.75  39.29  22.0\n",
       "1       1982   3.0  0.055  263.82  48.13  27.24  37.68  22.0\n",
       "2       1982   4.0  0.053  265.33  46.09  23.91  35.00  22.0\n",
       "3       1982   5.0  0.050  265.66  41.46  26.65  34.06  22.0\n",
       "4       1982   6.0  0.048  266.55  36.56  29.46  33.01  22.0\n",
       "...      ...   ...    ...     ...    ...    ...    ...   ...\n",
       "122103  2024  45.0  0.036  310.59  16.57  48.36  32.47  28.0\n",
       "122104  2024  46.0  0.036  309.78  16.68  37.94  27.31  28.0\n",
       "122105  2024  47.0  0.037  308.59  18.82  33.32  26.07  28.0\n",
       "122106  2024  48.0  0.038  307.15  20.64  31.09  25.87  28.0\n",
       "122107  2024  49.0  0.039  306.23  23.35  29.07  26.21  28.0\n",
       "\n",
       "[122108 rows x 8 columns]"
      ]
     },
     "execution_count": 12,
     "metadata": {},
     "output_type": "execute_result"
    }
   ],
   "source": [
    "data"
   ]
  },
  {
   "cell_type": "markdown",
   "metadata": {},
   "source": [
    "### Завдання 5\n",
    "5. Реалізувати процедури для формування вибірок наступного виду\n",
    "(включаючи елементи аналізу):\n",
    "- Ряд VHI для області за рік, пошук екстремумів (min та max);\n",
    "- Ряд VHI за всі роки для області, виявити роки з екстремальними\n",
    "посухами, які торкнулися більше вказаного відсотка області;\n",
    "- Аналогічно для помірних посух"
   ]
  },
  {
   "cell_type": "markdown",
   "metadata": {},
   "source": [
    "Вивід min/max"
   ]
  },
  {
   "cell_type": "code",
   "execution_count": 13,
   "metadata": {},
   "outputs": [
    {
     "name": "stdout",
     "output_type": "stream",
     "text": [
      "MIN:  30.93\n",
      "MAX:  59.74\n"
     ]
    }
   ],
   "source": [
    "def min_max(year, area):\n",
    "    print(\"MIN: \", data[\"VHI\"][(data[\"Year\"] == f\"{year}\") & (data[\"area\"] == area)].min())\n",
    "    print(\"MAX: \", data[\"VHI\"][(data[\"Year\"] == f\"{year}\") & (data[\"area\"] == area)].max())\n",
    "min_max(1991, 5)"
   ]
  },
  {
   "cell_type": "markdown",
   "metadata": {},
   "source": [
    "Вивід екстремальних посух"
   ]
  },
  {
   "cell_type": "code",
   "execution_count": 14,
   "metadata": {},
   "outputs": [
    {
     "name": "stdout",
     "output_type": "stream",
     "text": [
      "          VHI  area\n",
      "948     14.64  22.0\n",
      "949     11.82  22.0\n",
      "950     10.81  22.0\n",
      "951     10.68  22.0\n",
      "952     12.30  22.0\n",
      "953     14.24  22.0\n",
      "3127    14.64  22.0\n",
      "3128    11.82  22.0\n",
      "3129    10.81  22.0\n",
      "3130    10.68  22.0\n",
      "3131    12.30  22.0\n",
      "3132    14.24  22.0\n",
      "101252  12.26  22.0\n",
      "101253  11.28  22.0\n",
      "101254  11.25  22.0\n",
      "101255  11.38  22.0\n",
      "101256  12.91  22.0\n",
      "101257  14.20  22.0\n",
      "103431  12.26  22.0\n",
      "103432  11.28  22.0\n",
      "103433  11.25  22.0\n",
      "103434  11.38  22.0\n",
      "103435  12.91  22.0\n",
      "103436  14.20  22.0\n"
     ]
    }
   ],
   "source": [
    "def extremum(area):\n",
    "    print(data.loc[(data[\"VHI\"] < 15) & (data[\"area\"] == area), [\"VHI\", \"area\"]])\n",
    "extremum(22)"
   ]
  },
  {
   "cell_type": "markdown",
   "metadata": {},
   "source": [
    "Вивід помірних посух"
   ]
  },
  {
   "cell_type": "code",
   "execution_count": 15,
   "metadata": {},
   "outputs": [
    {
     "name": "stdout",
     "output_type": "stream",
     "text": [
      "          VHI  area\n",
      "3       34.06  22.0\n",
      "4       33.01  22.0\n",
      "5       31.65  22.0\n",
      "6       31.40  22.0\n",
      "7       31.73  22.0\n",
      "...       ...   ...\n",
      "104650  28.83  22.0\n",
      "104651  29.73  22.0\n",
      "104652  30.45  22.0\n",
      "104653  31.87  22.0\n",
      "104654  34.63  22.0\n",
      "\n",
      "[1083 rows x 2 columns]\n"
     ]
    }
   ],
   "source": [
    "def pomir(area):\n",
    "    print(data.loc[(data[\"VHI\"]<35) & (data[\"VHI\"]>=15) &(data[\"area\"] == area), [\"VHI\", \"area\"]])\n",
    "pomir(22)"
   ]
  }
 ],
 "metadata": {
  "kernelspec": {
   "display_name": "base",
   "language": "python",
   "name": "python3"
  },
  "language_info": {
   "codemirror_mode": {
    "name": "ipython",
    "version": 3
   },
   "file_extension": ".py",
   "mimetype": "text/x-python",
   "name": "python",
   "nbconvert_exporter": "python",
   "pygments_lexer": "ipython3",
   "version": "3.12.2"
  }
 },
 "nbformat": 4,
 "nbformat_minor": 2
}
